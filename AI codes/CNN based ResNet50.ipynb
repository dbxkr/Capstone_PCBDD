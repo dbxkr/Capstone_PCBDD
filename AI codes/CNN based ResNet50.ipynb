{
 "cells": [
  {
   "cell_type": "code",
   "execution_count": 1,
   "id": "7df18eea",
   "metadata": {},
   "outputs": [],
   "source": [
    "from tensorflow.keras.layers import Conv2D, Flatten, Dense, MaxPool2D, BatchNormalization, GlobalAveragePooling2D\n",
    "from tensorflow.keras.applications.resnet50 import preprocess_input, decode_predictions\n",
    "from tensorflow.keras.preprocessing.image import ImageDataGenerator, load_img\n",
    "from tensorflow.keras.applications.resnet50 import ResNet50\n",
    "from tensorflow.keras.preprocessing import image\n",
    "from tensorflow.keras.models import Sequential\n",
    "from tensorflow.keras.models import Model\n",
    "import matplotlib.pyplot as plt\n",
    "import numpy as np\n",
    "import os"
   ]
  },
  {
   "cell_type": "code",
   "execution_count": 2,
   "id": "1c3588a2",
   "metadata": {},
   "outputs": [],
   "source": [
    "folders = ['TM_Chassis_MULT', 'TM_Chassis_Single', 'TM-A_Chassis_MULT', 'TM-A_Chassis_Single']\n",
    "PCB_num = 0\n",
    "\n",
    "folder = folders[PCB_num]\n",
    "\n",
    "dataset_dir = f\"/Users/mh/Downloads/datasets/{folder}\""
   ]
  },
  {
   "cell_type": "code",
   "execution_count": 12,
   "id": "38f6f19b",
   "metadata": {},
   "outputs": [
    {
     "name": "stdout",
     "output_type": "stream",
     "text": [
      "0 screw2\n",
      "1 connector1\n",
      "2 supporter1\n",
      "3 multiscrew2\n",
      "4 .DS_Store\n",
      "5 connector2\n",
      "6 screw1\n",
      "7 supporter3\n",
      "8 supporter2\n",
      "9 multiscrew1\n"
     ]
    }
   ],
   "source": [
    "parts = os.listdir(dataset_dir)\n",
    "\n",
    "i = 0\n",
    "for part in parts:\n",
    "    print(i, end=\" \")\n",
    "    print(part)\n",
    "    i += 1"
   ]
  },
  {
   "cell_type": "code",
   "execution_count": 13,
   "id": "295f4af0",
   "metadata": {},
   "outputs": [
    {
     "name": "stdout",
     "output_type": "stream",
     "text": [
      "/Users/mh/Downloads/datasets/TM_Chassis_MULT/connector2\n"
     ]
    }
   ],
   "source": [
    "part_num = 5\n",
    "part = parts[part_num]\n",
    "\n",
    "data_dir = f\"{dataset_dir}/{part}\"\n",
    "print(data_dir)"
   ]
  },
  {
   "cell_type": "code",
   "execution_count": 14,
   "id": "1b311eb5",
   "metadata": {},
   "outputs": [],
   "source": [
    "img_height, img_width = (224, 224)\n",
    "batch_size = 32\n",
    "\n",
    "train_data_dir = f\"{data_dir}/train\"\n",
    "test_data_dir = f\"{data_dir}/test\"\n",
    "valid_data_dir = f\"{data_dir}/valid\""
   ]
  },
  {
   "cell_type": "code",
   "execution_count": 15,
   "id": "c646062c",
   "metadata": {},
   "outputs": [
    {
     "name": "stdout",
     "output_type": "stream",
     "text": [
      "Found 360 images belonging to 2 classes.\n",
      "Found 66 images belonging to 2 classes.\n",
      "Found 9 images belonging to 2 classes.\n"
     ]
    }
   ],
   "source": [
    "train_datagen = ImageDataGenerator(preprocessing_function=preprocess_input,\n",
    "                                   shear_range=0.2,\n",
    "                                   zoom_range=0.2,\n",
    "                                   horizontal_flip=True,\n",
    "                                   validation_split=0.4)\n",
    "\n",
    "train_generator = train_datagen.flow_from_directory(train_data_dir,\n",
    "                                                    target_size=(img_height, img_width),\n",
    "                                                    batch_size=batch_size,\n",
    "                                                    class_mode='categorical',\n",
    "                                                    subset='training') # set as training data\n",
    "\n",
    "valid_generator = train_datagen.flow_from_directory(valid_data_dir,\n",
    "                                                    target_size=(img_height, img_width),\n",
    "                                                    batch_size=batch_size,\n",
    "                                                    class_mode='categorical',\n",
    "                                                    subset='validation') # set as validation data\n",
    "\n",
    "test_generator = train_datagen.flow_from_directory(test_data_dir,\n",
    "                                                    target_size=(img_height, img_width),\n",
    "                                                    batch_size=batch_size,\n",
    "                                                    class_mode='categorical',\n",
    "                                                    subset='validation') # set as test data"
   ]
  },
  {
   "cell_type": "code",
   "execution_count": 16,
   "id": "b3c11d2e",
   "metadata": {},
   "outputs": [
    {
     "data": {
      "text/plain": [
       "(9, 224, 224, 3)"
      ]
     },
     "execution_count": 16,
     "metadata": {},
     "output_type": "execute_result"
    }
   ],
   "source": [
    "x, y = test_generator.next()\n",
    "x.shape"
   ]
  },
  {
   "cell_type": "code",
   "execution_count": 17,
   "id": "a8f90163",
   "metadata": {},
   "outputs": [
    {
     "data": {
      "text/plain": [
       "2"
      ]
     },
     "execution_count": 17,
     "metadata": {},
     "output_type": "execute_result"
    }
   ],
   "source": [
    "train_generator.num_classes"
   ]
  },
  {
   "cell_type": "code",
   "execution_count": 18,
   "id": "dce9f714",
   "metadata": {},
   "outputs": [
    {
     "name": "stdout",
     "output_type": "stream",
     "text": [
      "<connector2>\n",
      "Epoch 1/10\n",
      "12/12 [==============================] - 10s 778ms/step - loss: 0.5787 - accuracy: 0.8611 - val_loss: 0.0000e+00 - val_accuracy: 1.0000\n",
      "Epoch 2/10\n",
      "12/12 [==============================] - 9s 730ms/step - loss: 9.9341e-10 - accuracy: 1.0000 - val_loss: 0.0000e+00 - val_accuracy: 1.0000\n",
      "Epoch 3/10\n",
      "12/12 [==============================] - 9s 770ms/step - loss: 0.0000e+00 - accuracy: 1.0000 - val_loss: 0.0000e+00 - val_accuracy: 1.0000\n",
      "Epoch 4/10\n",
      "12/12 [==============================] - 10s 798ms/step - loss: 0.0000e+00 - accuracy: 1.0000 - val_loss: 0.0000e+00 - val_accuracy: 1.0000\n",
      "Epoch 5/10\n",
      "12/12 [==============================] - 9s 758ms/step - loss: 0.0000e+00 - accuracy: 1.0000 - val_loss: 0.0000e+00 - val_accuracy: 1.0000\n",
      "Epoch 6/10\n",
      "12/12 [==============================] - 9s 752ms/step - loss: 0.0000e+00 - accuracy: 1.0000 - val_loss: 0.0000e+00 - val_accuracy: 1.0000\n",
      "Epoch 7/10\n",
      "12/12 [==============================] - 9s 779ms/step - loss: 0.0000e+00 - accuracy: 1.0000 - val_loss: 0.0000e+00 - val_accuracy: 1.0000\n",
      "Epoch 8/10\n",
      "12/12 [==============================] - 9s 738ms/step - loss: 0.0000e+00 - accuracy: 1.0000 - val_loss: 0.0000e+00 - val_accuracy: 1.0000\n",
      "Epoch 9/10\n",
      "12/12 [==============================] - 9s 741ms/step - loss: 0.0000e+00 - accuracy: 1.0000 - val_loss: 0.0000e+00 - val_accuracy: 1.0000\n",
      "Epoch 10/10\n",
      "12/12 [==============================] - 9s 738ms/step - loss: 0.0000e+00 - accuracy: 1.0000 - val_loss: 0.0000e+00 - val_accuracy: 1.0000\n",
      "\n",
      "connector2 saved..\n",
      "\n",
      "\n"
     ]
    }
   ],
   "source": [
    "print(f\"<{part}>\")\n",
    "\n",
    "base_model = ResNet50(include_top=False, weights='imagenet')\n",
    "x = base_model.output\n",
    "x = GlobalAveragePooling2D()(x)\n",
    "x = Dense(1024, activation='relu')(x)\n",
    "predictions = Dense(train_generator.num_classes, activation='softmax')(x)\n",
    "model = Model(inputs=base_model.input, outputs=predictions)\n",
    "\n",
    "for layer in base_model.layers:\n",
    "  layer.trainable = False\n",
    "\n",
    "model.compile(optimizer='adam', loss='categorical_crossentropy', metrics=['accuracy'])\n",
    "\n",
    "history = model.fit(train_generator, validation_data=valid_generator, epochs=10)\n",
    "\n",
    "if not os.path.exists(f\"/Users/mh/Downloads/models/{folder}\"):\n",
    "  os.makedirs(f\"/Users/mh/Downloads/models/{folder}\")\n",
    "model.save(f'/Users/mh/Downloads/models/{folder}/{part}.h5')\n",
    "\n",
    "print()\n",
    "print(f\"{part} saved..\\n\\n\")"
   ]
  },
  {
   "cell_type": "code",
   "execution_count": 19,
   "id": "cd1dd8a8",
   "metadata": {},
   "outputs": [
    {
     "name": "stdout",
     "output_type": "stream",
     "text": [
      "1/1 - 0s - loss: 1.3245e-08 - accuracy: 1.0000 - 286ms/epoch - 286ms/step\n",
      "\n",
      "Test accuracy:  1.0\n"
     ]
    }
   ],
   "source": [
    "test_loss, test_acc = model.evaluate(test_generator, verbose=2)\n",
    "print('\\nTest accuracy: ', test_acc)"
   ]
  },
  {
   "cell_type": "code",
   "execution_count": 15,
   "id": "d641569b",
   "metadata": {},
   "outputs": [
    {
     "data": {
      "image/png": "[encoded data removed]",
      "text/plain": [
       "<Figure size 640x480 with 1 Axes>"
      ]
     },
     "metadata": {},
     "output_type": "display_data"
    }
   ],
   "source": [
    "plt.plot(history.history['accuracy'])\n",
    "plt.plot(history.history['val_accuracy'])\n",
    "plt.axis(ymin=0.4, ymax=1)\n",
    "plt.grid()\n",
    "plt.xlabel('Epochs')\n",
    "plt.ylabel('Accuracy')\n",
    "plt.legend(['train', 'validation'])\n",
    "plt.show()"
   ]
  },
  {
   "cell_type": "code",
   "execution_count": 27,
   "id": "c8b14f14",
   "metadata": {},
   "outputs": [
    {
     "data": {
      "image/png": "[encoded data removed]",
      "text/plain": [
       "<Figure size 640x480 with 1 Axes>"
      ]
     },
     "metadata": {},
     "output_type": "display_data"
    }
   ],
   "source": [
    "plt.plot(history.history['loss'])\n",
    "plt.plot(history.history['val_loss'])\n",
    "plt.grid()\n",
    "plt.xlabel('Epochs')\n",
    "plt.ylabel('Loss')\n",
    "plt.legend(['train', 'validation'])\n",
    "plt.show()"
   ]
  },
  {
   "cell_type": "code",
   "execution_count": 28,
   "id": "8dbbe2a0",
   "metadata": {},
   "outputs": [
    {
     "name": "stdout",
     "output_type": "stream",
     "text": [
      "1/1 [==============================] - 1s 921ms/step\n",
      "1/1 [==============================] - 1s 609ms/step\n",
      "1/1 [==============================] - 0s 355ms/step\n"
     ]
    },
    {
     "data": {
      "image/png": "[encoded data removed]",
      "text/plain": [
       "<Figure size 640x480 with 2 Axes>"
      ]
     },
     "metadata": {},
     "output_type": "display_data"
    },
    {
     "name": "stdout",
     "output_type": "stream",
     "text": [
      "test accuracy: 100.0\n"
     ]
    }
   ],
   "source": [
    "import pandas as pd\n",
    "import seaborn as sn\n",
    "import tensorflow as tf\n",
    "\n",
    "model = tf.keras.models.load_model(f'/Users/mh/Downloads/models/{folder}/{part}.h5')\n",
    "filenames = test_generator.filenames\n",
    "nb_samples = len(test_generator)\n",
    "y_prob=[]\n",
    "y_act=[]\n",
    "test_generator.reset()\n",
    "for _ in range(nb_samples):\n",
    "  X_test, Y_test = test_generator.next()\n",
    "  y_prob.append(model.predict(X_test))\n",
    "  y_act.append(Y_test)\n",
    "\n",
    "predicted_class = [list(train_generator.class_indices.keys())[i.argmax()] for i in y_prob]\n",
    "actual_class = [list(train_generator.class_indices.keys())[i.argmax()] for i in y_act]\n",
    "\n",
    "out_df = pd.DataFrame(np.vstack([predicted_class, actual_class]).T, columns=['predicted_class', 'actual_class'])\n",
    "confusion_matrix = pd.crosstab(out_df['actual_class'], out_df['predicted_class'], rownames=['Actual'], colnames=['Predicted'])\n",
    "\n",
    "sn.heatmap(confusion_matrix, cmap='Blues', annot=True, fmt='d')\n",
    "plt.show()\n",
    "print('test accuracy: {}'.format((np.diagonal(confusion_matrix).sum()/confusion_matrix.sum().sum()*100)))"
   ]
  },
  {
   "cell_type": "code",
   "execution_count": 29,
   "id": "cfa00583",
   "metadata": {},
   "outputs": [],
   "source": [
    "import tensorflow as tf\n",
    "model = tf.keras.models.load_model(f'/Users/mh/Downloads/models/{folder}/{part}.h5')"
   ]
  },
  {
   "cell_type": "code",
   "execution_count": 32,
   "id": "a14cb90d",
   "metadata": {},
   "outputs": [
    {
     "name": "stdout",
     "output_type": "stream",
     "text": [
      "(1, 224, 224, 3)\n"
     ]
    }
   ],
   "source": [
    "import cv2\n",
    "image = cv2.imread('/Users/mh/Downloads/color_case/TM_Chassis_MULT/connector1/case1/case1/TM_Chassis_MULT_6_X_connector1.jpg')\n",
    "image_resized = cv2.resize(image, (img_height, img_width))\n",
    "image = np.expand_dims(image_resized, axis=0)\n",
    "print(image.shape)"
   ]
  },
  {
   "cell_type": "code",
   "execution_count": 33,
   "id": "2cde2876",
   "metadata": {},
   "outputs": [
    {
     "name": "stdout",
     "output_type": "stream",
     "text": [
      "1/1 [==============================] - 0s 59ms/step\n",
      "[[9.999112e-01 8.879545e-05]]\n",
      "correct 0.9999112\n"
     ]
    }
   ],
   "source": [
    "from PIL import Image\n",
    "\n",
    "pred = model.predict(image)\n",
    "\n",
    "#cv2.show(np.array(Image.fromarray(image).rezise(img_height, img_width)))\n",
    "#Image.fromarray(image).show()\n",
    "print(pred)\n",
    "if np.argmax(pred[0] + 1) == 0:\n",
    "    print('correct', np.max(pred[0]))\n",
    "else: \n",
    "    print('incorrect', np.max(pred[0]))"
   ]
  },
  {
   "cell_type": "code",
   "execution_count": 41,
   "id": "c4a0a79b",
   "metadata": {},
   "outputs": [
    {
     "name": "stdout",
     "output_type": "stream",
     "text": [
      "<<TM_Chassis_Single>>\n",
      "screw2\n",
      "Found 240 images belonging to 2 classes.\n",
      "Found 44 images belonging to 2 classes.\n",
      "Found 4 images belonging to 2 classes.\n",
      "<screw2>\n",
      "Epoch 1/10\n",
      "8/8 [==============================] - 7s 800ms/step - loss: 0.9870 - accuracy: 0.8500 - val_loss: 0.0150 - val_accuracy: 1.0000\n",
      "Epoch 2/10\n",
      "8/8 [==============================] - 6s 757ms/step - loss: 0.0104 - accuracy: 0.9958 - val_loss: 2.1539e-06 - val_accuracy: 1.0000\n",
      "Epoch 3/10\n",
      "8/8 [==============================] - 6s 740ms/step - loss: 1.4727e-06 - accuracy: 1.0000 - val_loss: 0.0000e+00 - val_accuracy: 1.0000\n",
      "Epoch 4/10\n",
      "8/8 [==============================] - 6s 739ms/step - loss: 2.2848e-08 - accuracy: 1.0000 - val_loss: 0.0000e+00 - val_accuracy: 1.0000\n",
      "Epoch 5/10\n",
      "8/8 [==============================] - 6s 740ms/step - loss: 9.9341e-10 - accuracy: 1.0000 - val_loss: 0.0000e+00 - val_accuracy: 1.0000\n",
      "Epoch 6/10\n",
      "8/8 [==============================] - 6s 739ms/step - loss: 0.0000e+00 - accuracy: 1.0000 - val_loss: 0.0000e+00 - val_accuracy: 1.0000\n",
      "Epoch 7/10\n",
      "8/8 [==============================] - 6s 761ms/step - loss: 0.0000e+00 - accuracy: 1.0000 - val_loss: 0.0000e+00 - val_accuracy: 1.0000\n",
      "Epoch 8/10\n",
      "8/8 [==============================] - 6s 771ms/step - loss: 0.0000e+00 - accuracy: 1.0000 - val_loss: 0.0000e+00 - val_accuracy: 1.0000\n",
      "Epoch 9/10\n",
      "8/8 [==============================] - 6s 770ms/step - loss: 0.0000e+00 - accuracy: 1.0000 - val_loss: 0.0000e+00 - val_accuracy: 1.0000\n",
      "Epoch 10/10\n",
      "8/8 [==============================] - 6s 776ms/step - loss: 4.9671e-10 - accuracy: 1.0000 - val_loss: 0.0000e+00 - val_accuracy: 1.0000\n",
      "\n",
      "screw2 saved..\n",
      "\n",
      "\n",
      ".DS_Store\n",
      "multiscrew\n",
      "Found 960 images belonging to 2 classes.\n",
      "Found 178 images belonging to 2 classes.\n",
      "Found 4 images belonging to 2 classes.\n",
      "<multiscrew>\n",
      "Epoch 1/10\n",
      "30/30 [==============================] - 25s 813ms/step - loss: 1.1429 - accuracy: 0.9052 - val_loss: 2.3903 - val_accuracy: 0.4607\n",
      "Epoch 2/10\n",
      "30/30 [==============================] - 23s 780ms/step - loss: 0.0017 - accuracy: 1.0000 - val_loss: 2.8736 - val_accuracy: 0.4213\n",
      "Epoch 3/10\n",
      "30/30 [==============================] - 23s 763ms/step - loss: 9.8442e-05 - accuracy: 1.0000 - val_loss: 2.4698 - val_accuracy: 0.4663\n",
      "Epoch 4/10\n",
      "30/30 [==============================] - 23s 750ms/step - loss: 8.5239e-05 - accuracy: 1.0000 - val_loss: 2.6830 - val_accuracy: 0.4326\n",
      "Epoch 5/10\n",
      "30/30 [==============================] - 22s 748ms/step - loss: 3.9436e-05 - accuracy: 1.0000 - val_loss: 2.9151 - val_accuracy: 0.4382\n",
      "Epoch 6/10\n",
      "30/30 [==============================] - 23s 763ms/step - loss: 1.7940e-04 - accuracy: 1.0000 - val_loss: 3.5058 - val_accuracy: 0.3820\n",
      "Epoch 7/10\n",
      "30/30 [==============================] - 23s 750ms/step - loss: 1.0747e-04 - accuracy: 1.0000 - val_loss: 3.3884 - val_accuracy: 0.3933\n",
      "Epoch 8/10\n",
      "30/30 [==============================] - 23s 754ms/step - loss: 1.3467e-05 - accuracy: 1.0000 - val_loss: 3.2132 - val_accuracy: 0.3989\n",
      "Epoch 9/10\n",
      "30/30 [==============================] - 23s 750ms/step - loss: 1.6233e-05 - accuracy: 1.0000 - val_loss: 3.1645 - val_accuracy: 0.3989\n",
      "Epoch 10/10\n",
      "30/30 [==============================] - 23s 755ms/step - loss: 1.2591e-05 - accuracy: 1.0000 - val_loss: 3.9523 - val_accuracy: 0.3876\n",
      "\n",
      "multiscrew saved..\n",
      "\n",
      "\n",
      "screw1\n",
      "Found 240 images belonging to 2 classes.\n",
      "Found 44 images belonging to 2 classes.\n",
      "Found 4 images belonging to 2 classes.\n",
      "<screw1>\n",
      "Epoch 1/10\n",
      "8/8 [==============================] - 7s 812ms/step - loss: 0.0686 - accuracy: 0.9708 - val_loss: 0.0000e+00 - val_accuracy: 1.0000\n",
      "Epoch 2/10\n",
      "8/8 [==============================] - 6s 744ms/step - loss: 0.0000e+00 - accuracy: 1.0000 - val_loss: 0.0000e+00 - val_accuracy: 1.0000\n",
      "Epoch 3/10\n",
      "8/8 [==============================] - 6s 747ms/step - loss: 0.0000e+00 - accuracy: 1.0000 - val_loss: 0.0000e+00 - val_accuracy: 1.0000\n",
      "Epoch 4/10\n",
      "8/8 [==============================] - 6s 750ms/step - loss: 0.0000e+00 - accuracy: 1.0000 - val_loss: 0.0000e+00 - val_accuracy: 1.0000\n",
      "Epoch 5/10\n",
      "8/8 [==============================] - 6s 749ms/step - loss: 0.0000e+00 - accuracy: 1.0000 - val_loss: 0.0000e+00 - val_accuracy: 1.0000\n",
      "Epoch 6/10\n",
      "8/8 [==============================] - 6s 746ms/step - loss: 0.0000e+00 - accuracy: 1.0000 - val_loss: 0.0000e+00 - val_accuracy: 1.0000\n",
      "Epoch 7/10\n",
      "8/8 [==============================] - 6s 747ms/step - loss: 0.0000e+00 - accuracy: 1.0000 - val_loss: 0.0000e+00 - val_accuracy: 1.0000\n",
      "Epoch 8/10\n",
      "8/8 [==============================] - 6s 749ms/step - loss: 0.0000e+00 - accuracy: 1.0000 - val_loss: 0.0000e+00 - val_accuracy: 1.0000\n",
      "Epoch 9/10\n",
      "8/8 [==============================] - 6s 746ms/step - loss: 0.0000e+00 - accuracy: 1.0000 - val_loss: 0.0000e+00 - val_accuracy: 1.0000\n",
      "Epoch 10/10\n",
      "8/8 [==============================] - 6s 788ms/step - loss: 0.0000e+00 - accuracy: 1.0000 - val_loss: 0.0000e+00 - val_accuracy: 1.0000\n",
      "\n",
      "screw1 saved..\n",
      "\n",
      "\n",
      "supporter3\n",
      "Found 360 images belonging to 2 classes.\n",
      "Found 66 images belonging to 2 classes.\n",
      "Found 5 images belonging to 2 classes.\n",
      "<supporter3>\n",
      "Epoch 1/10\n",
      "12/12 [==============================] - 10s 793ms/step - loss: 0.0522 - accuracy: 0.9722 - val_loss: 1.8062e-09 - val_accuracy: 1.0000\n",
      "Epoch 2/10\n",
      "12/12 [==============================] - 9s 775ms/step - loss: 3.3114e-10 - accuracy: 1.0000 - val_loss: 0.0000e+00 - val_accuracy: 1.0000\n",
      "Epoch 3/10\n",
      "12/12 [==============================] - 9s 737ms/step - loss: 0.0000e+00 - accuracy: 1.0000 - val_loss: 0.0000e+00 - val_accuracy: 1.0000\n",
      "Epoch 4/10\n",
      "12/12 [==============================] - 9s 736ms/step - loss: 3.3114e-10 - accuracy: 1.0000 - val_loss: 3.6124e-09 - val_accuracy: 1.0000\n",
      "Epoch 5/10\n",
      "12/12 [==============================] - 9s 736ms/step - loss: 0.0000e+00 - accuracy: 1.0000 - val_loss: 0.0000e+00 - val_accuracy: 1.0000\n",
      "Epoch 6/10\n",
      "12/12 [==============================] - 9s 738ms/step - loss: 1.3245e-09 - accuracy: 1.0000 - val_loss: 0.0000e+00 - val_accuracy: 1.0000\n",
      "Epoch 7/10\n",
      "12/12 [==============================] - 9s 754ms/step - loss: 0.0000e+00 - accuracy: 1.0000 - val_loss: 0.0000e+00 - val_accuracy: 1.0000\n",
      "Epoch 8/10\n",
      "12/12 [==============================] - 9s 751ms/step - loss: 0.0000e+00 - accuracy: 1.0000 - val_loss: 0.0000e+00 - val_accuracy: 1.0000\n",
      "Epoch 9/10\n",
      "12/12 [==============================] - 9s 751ms/step - loss: 0.0000e+00 - accuracy: 1.0000 - val_loss: 0.0000e+00 - val_accuracy: 1.0000\n",
      "Epoch 10/10\n",
      "12/12 [==============================] - 9s 751ms/step - loss: 6.6227e-10 - accuracy: 1.0000 - val_loss: 0.0000e+00 - val_accuracy: 1.0000\n",
      "\n",
      "supporter3 saved..\n",
      "\n",
      "\n",
      "supporter2\n",
      "Found 480 images belonging to 2 classes.\n",
      "Found 89 images belonging to 2 classes.\n",
      "Found 4 images belonging to 2 classes.\n",
      "<supporter2>\n",
      "Epoch 1/10\n",
      "15/15 [==============================] - 13s 815ms/step - loss: 0.8012 - accuracy: 0.8896 - val_loss: 0.0000e+00 - val_accuracy: 1.0000\n",
      "Epoch 2/10\n",
      "15/15 [==============================] - 12s 794ms/step - loss: 1.0122e-06 - accuracy: 1.0000 - val_loss: 2.1565e-07 - val_accuracy: 1.0000\n",
      "Epoch 3/10\n",
      "15/15 [==============================] - 12s 787ms/step - loss: 3.4746e-05 - accuracy: 1.0000 - val_loss: 2.1054e-06 - val_accuracy: 1.0000\n",
      "Epoch 4/10\n",
      "15/15 [==============================] - 12s 784ms/step - loss: 8.6794e-05 - accuracy: 1.0000 - val_loss: 1.0581e-07 - val_accuracy: 1.0000\n",
      "Epoch 5/10\n",
      "15/15 [==============================] - 12s 784ms/step - loss: 1.0133e-07 - accuracy: 1.0000 - val_loss: 0.0000e+00 - val_accuracy: 1.0000\n",
      "Epoch 6/10\n",
      "15/15 [==============================] - 12s 781ms/step - loss: 1.2169e-08 - accuracy: 1.0000 - val_loss: 0.0000e+00 - val_accuracy: 1.0000\n",
      "Epoch 7/10\n",
      "15/15 [==============================] - 12s 781ms/step - loss: 5.2695e-07 - accuracy: 1.0000 - val_loss: 4.2593e-07 - val_accuracy: 1.0000\n",
      "Epoch 8/10\n",
      "15/15 [==============================] - 12s 782ms/step - loss: 1.6590e-07 - accuracy: 1.0000 - val_loss: 2.2368e-07 - val_accuracy: 1.0000\n",
      "Epoch 9/10\n",
      "15/15 [==============================] - 12s 789ms/step - loss: 7.6082e-07 - accuracy: 1.0000 - val_loss: 3.3486e-08 - val_accuracy: 1.0000\n",
      "Epoch 10/10\n",
      "15/15 [==============================] - 12s 786ms/step - loss: 4.1723e-08 - accuracy: 1.0000 - val_loss: 5.6256e-08 - val_accuracy: 1.0000\n"
     ]
    },
    {
     "name": "stdout",
     "output_type": "stream",
     "text": [
      "\n",
      "supporter2 saved..\n",
      "\n",
      "\n",
      "connector\n",
      "Found 240 images belonging to 2 classes.\n",
      "Found 44 images belonging to 2 classes.\n",
      "Found 5 images belonging to 2 classes.\n",
      "<connector>\n",
      "Epoch 1/10\n",
      "8/8 [==============================] - 7s 879ms/step - loss: 3.9316 - accuracy: 0.6167 - val_loss: 0.0036 - val_accuracy: 1.0000\n",
      "Epoch 2/10\n",
      "8/8 [==============================] - 6s 772ms/step - loss: 0.1923 - accuracy: 0.9458 - val_loss: 0.0049 - val_accuracy: 1.0000\n",
      "Epoch 3/10\n",
      "8/8 [==============================] - 6s 816ms/step - loss: 3.2981e-04 - accuracy: 1.0000 - val_loss: 8.9948e-07 - val_accuracy: 1.0000\n",
      "Epoch 4/10\n",
      "8/8 [==============================] - 6s 773ms/step - loss: 6.9464e-06 - accuracy: 1.0000 - val_loss: 6.8593e-06 - val_accuracy: 1.0000\n",
      "Epoch 5/10\n",
      "8/8 [==============================] - 6s 773ms/step - loss: 3.1675e-04 - accuracy: 1.0000 - val_loss: 2.5323e-05 - val_accuracy: 1.0000\n",
      "Epoch 6/10\n",
      "8/8 [==============================] - 6s 774ms/step - loss: 2.1828e-04 - accuracy: 1.0000 - val_loss: 1.0771e-04 - val_accuracy: 1.0000\n",
      "Epoch 7/10\n",
      "8/8 [==============================] - 6s 801ms/step - loss: 1.0792e-04 - accuracy: 1.0000 - val_loss: 8.2504e-05 - val_accuracy: 1.0000\n",
      "Epoch 8/10\n",
      "8/8 [==============================] - 6s 757ms/step - loss: 0.0024 - accuracy: 1.0000 - val_loss: 1.0449e-05 - val_accuracy: 1.0000\n",
      "Epoch 9/10\n",
      "8/8 [==============================] - 6s 761ms/step - loss: 1.2834e-05 - accuracy: 1.0000 - val_loss: 2.5168e-06 - val_accuracy: 1.0000\n",
      "Epoch 10/10\n",
      "8/8 [==============================] - 6s 774ms/step - loss: 1.3560e-06 - accuracy: 1.0000 - val_loss: 1.4566e-04 - val_accuracy: 1.0000\n",
      "\n",
      "connector saved..\n",
      "\n",
      "\n"
     ]
    }
   ],
   "source": [
    "img_height, img_width = (224, 224)\n",
    "batch_size = 32\n",
    "\n",
    "print(f\"<<{folder}>>\")\n",
    "\n",
    "for part in parts:\n",
    "    if part == '.DS_Store':\n",
    "        continue\n",
    "\n",
    "    data_dir = f\"{dataset_dir}/{part}\"\n",
    "\n",
    "    train_data_dir = f\"{data_dir}/train\"\n",
    "    test_data_dir = f\"{data_dir}/test\"\n",
    "    valid_data_dir = f\"{data_dir}/valid\"\n",
    "    \n",
    "    train_datagen = ImageDataGenerator(preprocessing_function=preprocess_input,\n",
    "                                   shear_range=0.2,\n",
    "                                   zoom_range=0.2,\n",
    "                                   horizontal_flip=True,\n",
    "                                   validation_split=0.4)\n",
    "\n",
    "    train_generator = train_datagen.flow_from_directory(train_data_dir,\n",
    "                                                        target_size=(img_height, img_width),\n",
    "                                                        batch_size=batch_size,\n",
    "                                                        class_mode='categorical',\n",
    "                                                        subset='training') # set as training data\n",
    "\n",
    "    valid_generator = train_datagen.flow_from_directory(valid_data_dir,\n",
    "                                                        target_size=(img_height, img_width),\n",
    "                                                        batch_size=batch_size,\n",
    "                                                        class_mode='categorical',\n",
    "                                                        subset='validation') # set as validation data\n",
    "\n",
    "    test_generator = train_datagen.flow_from_directory(test_data_dir,\n",
    "                                                        target_size=(img_height, img_width),\n",
    "                                                        batch_size=batch_size,\n",
    "                                                        class_mode='categorical',\n",
    "                                                        subset='validation') # set as test data\n",
    "    \n",
    "    x, y = test_generator.next()\n",
    "    x.shape\n",
    "    \n",
    "    train_generator.num_classes\n",
    "    \n",
    "    print(f\"<{part}>\")\n",
    "\n",
    "    base_model = ResNet50(include_top=False, weights='imagenet')\n",
    "    x = base_model.output\n",
    "    x = GlobalAveragePooling2D()(x)\n",
    "    x = Dense(1024, activation='relu')(x)\n",
    "    predictions = Dense(train_generator.num_classes, activation='softmax')(x)\n",
    "    model = Model(inputs=base_model.input, outputs=predictions)\n",
    "\n",
    "    for layer in base_model.layers:\n",
    "      layer.trainable = False\n",
    "\n",
    "    model.compile(optimizer='adam', loss='categorical_crossentropy', metrics=['accuracy'])\n",
    "\n",
    "    history = model.fit(train_generator, validation_data=valid_generator, epochs=10)\n",
    "\n",
    "    if not os.path.exists(f\"/Users/mh/Downloads/models/{folder}\"):\n",
    "      os.makedirs(f\"/Users/mh/Downloads/models/{folder}\")\n",
    "    model.save(f'/Users/mh/Downloads/models/{folder}/{part}.h5')\n",
    "\n",
    "    print()\n",
    "    print(f\"{part} saved..\\n\\n\")"
   ]
  },
  {
   "cell_type": "code",
   "execution_count": null,
   "id": "5ddcdb5e",
   "metadata": {},
   "outputs": [],
   "source": []
  }
 ],
 "metadata": {
  "kernelspec": {
   "display_name": "CNN",
   "language": "python",
   "name": "cnn"
  },
  "language_info": {
   "codemirror_mode": {
    "name": "ipython",
    "version": 3
   },
   "file_extension": ".py",
   "mimetype": "text/x-python",
   "name": "python",
   "nbconvert_exporter": "python",
   "pygments_lexer": "ipython3",
   "version": "3.10.9"
  }
 },
 "nbformat": 4,
 "nbformat_minor": 5
}
